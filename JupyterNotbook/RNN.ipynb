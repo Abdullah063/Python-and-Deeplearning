{
 "cells": [
  {
   "cell_type": "code",
   "execution_count": 1,
   "id": "f4e16e95-6d23-4744-a2c5-6dc685d9e089",
   "metadata": {},
   "outputs": [],
   "source": [
    "# Gerekli kütüphaneler\n",
    "import torch\n",
    "import torch.nn as nn\n",
    "import torch.optim as optim\n",
    "import torchvision\n",
    "import torchvision.transforms as transforms\n",
    "from torch.utils.data import DataLoader"
   ]
  },
  {
   "cell_type": "code",
   "execution_count": 2,
   "id": "6d688bfa-30be-4c84-812a-80beb9ecf154",
   "metadata": {},
   "outputs": [],
   "source": [
    "# Cihaz kontrolü (GPU Kullanımı)\n",
    "device = torch.device(\"cuda\" if torch.cuda.is_available() else \"cpu\")\n"
   ]
  },
  {
   "cell_type": "code",
   "execution_count": 3,
   "id": "183ffcdd-0930-42ce-a06a-1278065fff29",
   "metadata": {},
   "outputs": [],
   "source": [
    "input_dim = 28   # Her bir satır (zaman adımı)\n",
    "hidden_dim = 128 # Daha büyük gizli katman boyutu\n",
    "layer_dim = 2    # 2 Katmanlı RNN\n",
    "output_dim = 10  # 10 sınıf (0-9 arası rakamlar)\n",
    "sequence_length = 28  # 28 zaman adımı\n",
    "num_epochs = 5\n",
    "batch_size = 100\n",
    "learning_rate = 0.001  # Daha stabil öğrenme için düşük LR"
   ]
  },
  {
   "cell_type": "code",
   "execution_count": 4,
   "id": "ee7c7112-050b-4bcf-888c-240e0eec38a3",
   "metadata": {},
   "outputs": [],
   "source": [
    "# MNIST Veri Kümesini Yükleme ve Normalizasyon\n",
    "transform = transforms.Compose([\n",
    "    transforms.ToTensor(),\n",
    "    transforms.Normalize((0.5,), (0.5,))\n",
    "])\n"
   ]
  },
  {
   "cell_type": "code",
   "execution_count": 5,
   "id": "490e855f-8bcc-482a-9c8f-f0f2410f06d4",
   "metadata": {},
   "outputs": [],
   "source": [
    "train_dataset = torchvision.datasets.MNIST(root='./data', train=True, transform=transform, download=True)\n",
    "test_dataset = torchvision.datasets.MNIST(root='./data', train=False, transform=transform, download=True)\n",
    "\n",
    "train_loader = DataLoader(dataset=train_dataset, batch_size=batch_size, shuffle=True)\n",
    "test_loader = DataLoader(dataset=test_dataset, batch_size=batch_size, shuffle=False)\n"
   ]
  },
  {
   "cell_type": "code",
   "execution_count": 6,
   "id": "5a1177a7-48bc-48d2-a625-6b17ef793283",
   "metadata": {},
   "outputs": [],
   "source": [
    "# RNN Modeli\n",
    "class RNNModel(nn.Module):\n",
    "    def __init__(self, input_dim, hidden_dim, layer_dim, output_dim):\n",
    "        super(RNNModel, self).__init__()\n",
    "        \n",
    "        # Katman ve Boyutları\n",
    "        self.hidden_dim = hidden_dim\n",
    "        self.layer_dim = layer_dim\n",
    "        \n",
    "        # RNN Katmanı (tanh fonksiyonuyla daha stabil çalışır)\n",
    "        self.rnn = nn.RNN(input_dim, hidden_dim, layer_dim, batch_first=True, nonlinearity='tanh')\n",
    "        \n",
    "        # Tam Bağlantılı (Fully Connected) Çıkış Katmanı\n",
    "        self.fc = nn.Linear(hidden_dim, output_dim)\n",
    "    \n",
    "    def forward(self, x):\n",
    "        # Başlangıç gizli durumu (GPU için .to(device) ekledik)\n",
    "        h0 = torch.zeros(self.layer_dim, x.size(0), self.hidden_dim).to(device)\n",
    "        \n",
    "        # RNN ileri yayılım (forward propagation)\n",
    "        out, _ = self.rnn(x, h0)  # out: (batch_size, seq_length, hidden_dim)\n",
    "        \n",
    "        # Son zaman adımındaki çıktıyı al ve tam bağlı katmana ver\n",
    "        out = self.fc(out[:, -1, :])  # Son zaman adımındaki çıktı\n",
    "        return out\n"
   ]
  },
  {
   "cell_type": "code",
   "execution_count": 7,
   "id": "d4755ea5-a1b1-4c7c-9080-44f301cf13c5",
   "metadata": {},
   "outputs": [],
   "source": [
    "# Model, Loss ve Optimizer Tanımlama\n",
    "model = RNNModel(input_dim, hidden_dim, layer_dim, output_dim).to(device)\n",
    "criterion = nn.CrossEntropyLoss()\n",
    "optimizer = optim.Adam(model.parameters(), lr=learning_rate)"
   ]
  },
  {
   "cell_type": "code",
   "execution_count": 8,
   "id": "85e03fe7-9594-42bf-a6e6-92e9d755056d",
   "metadata": {},
   "outputs": [
    {
     "name": "stdout",
     "output_type": "stream",
     "text": [
      "Epoch [1/5], Step [100/600], Loss: 0.9283\n",
      "Epoch [1/5], Step [200/600], Loss: 0.8463\n",
      "Epoch [1/5], Step [300/600], Loss: 0.5759\n",
      "Epoch [1/5], Step [400/600], Loss: 0.5905\n",
      "Epoch [1/5], Step [500/600], Loss: 0.4137\n",
      "Epoch [1/5], Step [600/600], Loss: 0.4265\n",
      "Epoch [2/5], Step [100/600], Loss: 0.2646\n",
      "Epoch [2/5], Step [200/600], Loss: 0.3827\n",
      "Epoch [2/5], Step [300/600], Loss: 0.2570\n",
      "Epoch [2/5], Step [400/600], Loss: 0.1381\n",
      "Epoch [2/5], Step [500/600], Loss: 0.2380\n",
      "Epoch [2/5], Step [600/600], Loss: 0.2934\n",
      "Epoch [3/5], Step [100/600], Loss: 0.3423\n",
      "Epoch [3/5], Step [200/600], Loss: 0.1699\n",
      "Epoch [3/5], Step [300/600], Loss: 0.3209\n",
      "Epoch [3/5], Step [400/600], Loss: 0.0787\n",
      "Epoch [3/5], Step [500/600], Loss: 0.1850\n",
      "Epoch [3/5], Step [600/600], Loss: 0.2663\n",
      "Epoch [4/5], Step [100/600], Loss: 0.1304\n",
      "Epoch [4/5], Step [200/600], Loss: 0.1957\n",
      "Epoch [4/5], Step [300/600], Loss: 0.1674\n",
      "Epoch [4/5], Step [400/600], Loss: 0.1196\n",
      "Epoch [4/5], Step [500/600], Loss: 0.1241\n",
      "Epoch [4/5], Step [600/600], Loss: 0.1022\n",
      "Epoch [5/5], Step [100/600], Loss: 0.0781\n",
      "Epoch [5/5], Step [200/600], Loss: 0.1365\n",
      "Epoch [5/5], Step [300/600], Loss: 0.2338\n",
      "Epoch [5/5], Step [400/600], Loss: 0.0702\n",
      "Epoch [5/5], Step [500/600], Loss: 0.1682\n",
      "Epoch [5/5], Step [600/600], Loss: 0.1528\n"
     ]
    }
   ],
   "source": [
    "# Model Eğitimi\n",
    "for epoch in range(num_epochs):\n",
    "    for i, (images, labels) in enumerate(train_loader):\n",
    "        images = images.view(-1, sequence_length, input_dim).to(device)  # [batch_size, seq_length, input_size]\n",
    "        labels = labels.to(device)\n",
    "\n",
    "        # Gradients sıfırlama\n",
    "        optimizer.zero_grad()\n",
    "\n",
    "        # Forward propagation\n",
    "        outputs = model(images)\n",
    "\n",
    "        # Loss hesaplama\n",
    "        loss = criterion(outputs, labels)\n",
    "\n",
    "        # Backward propagation\n",
    "        loss.backward()\n",
    "\n",
    "        # Parametre güncelleme\n",
    "        optimizer.step()\n",
    "\n",
    "        if (i + 1) % 100 == 0:\n",
    "            print(f\"Epoch [{epoch+1}/{num_epochs}], Step [{i+1}/{len(train_loader)}], Loss: {loss.item():.4f}\")"
   ]
  },
  {
   "cell_type": "code",
   "execution_count": 9,
   "id": "ff083058-b8ac-460c-bcdf-ec427a65e149",
   "metadata": {},
   "outputs": [
    {
     "name": "stdout",
     "output_type": "stream",
     "text": [
      "Test Accuracy: 95.98%\n",
      "Eğitim Tamamlandı!\n"
     ]
    }
   ],
   "source": [
    "# Modeli Test Etme\n",
    "model.eval()\n",
    "with torch.no_grad():\n",
    "    correct = 0\n",
    "    total = 0\n",
    "    for images, labels in test_loader:\n",
    "        images = images.view(-1, sequence_length, input_dim).to(device)\n",
    "        labels = labels.to(device)\n",
    "        \n",
    "        outputs = model(images)\n",
    "        _, predicted = torch.max(outputs.data, 1)\n",
    "        \n",
    "        total += labels.size(0)\n",
    "        correct += (predicted == labels).sum().item()\n",
    "\n",
    "    print(f\"Test Accuracy: {100 * correct / total:.2f}%\")\n",
    "\n",
    "print(\"Eğitim Tamamlandı!\")"
   ]
  },
  {
   "cell_type": "code",
   "execution_count": null,
   "id": "fec573fc-2a28-4daf-a61f-1d7b574608ae",
   "metadata": {},
   "outputs": [],
   "source": []
  }
 ],
 "metadata": {
  "kernelspec": {
   "display_name": "Python (AllProject)",
   "language": "python",
   "name": "allproject"
  },
  "language_info": {
   "codemirror_mode": {
    "name": "ipython",
    "version": 3
   },
   "file_extension": ".py",
   "mimetype": "text/x-python",
   "name": "python",
   "nbconvert_exporter": "python",
   "pygments_lexer": "ipython3",
   "version": "3.12.7"
  }
 },
 "nbformat": 4,
 "nbformat_minor": 5
}

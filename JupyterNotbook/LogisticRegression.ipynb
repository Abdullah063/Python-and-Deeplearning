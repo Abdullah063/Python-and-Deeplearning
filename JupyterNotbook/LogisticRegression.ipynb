{
 "cells": [
  {
   "cell_type": "code",
   "execution_count": 1,
   "id": "de07c4c7-a905-480d-a75f-3115507394e5",
   "metadata": {},
   "outputs": [],
   "source": [
    "# Import Libraries\n",
    "import torch\n",
    "import torch.nn as nn\n",
    "from torch.autograd import Variable\n",
    "from torch.utils.data import DataLoader\n",
    "import torchvision.transforms as transforms\n",
    "import torchvision\n",
    "import torch.optim as optim\n",
    "import pandas as pd\n"
   ]
  },
  {
   "cell_type": "markdown",
   "id": "f90c4e4b-eecf-4302-b668-4ab27a35404f",
   "metadata": {},
   "source": [
    "torch ile mnist veri setini indirme"
   ]
  },
  {
   "cell_type": "code",
   "execution_count": 3,
   "id": "25d0c692-5464-44af-bb79-a9af674d1287",
   "metadata": {},
   "outputs": [],
   "source": [
    "# 1 Veriyi yükleyelim\n",
    "transform = transforms.Compose([transforms.ToTensor(), transforms.Normalize((0.5,), (0.5,))])\n",
    "\n",
    "train_dataset = torchvision.datasets.MNIST(root='./data', train=True, transform=transform, download=True)\n",
    "test_dataset = torchvision.datasets.MNIST(root='./data', train=False, transform=transform, download=True)\n",
    "\n",
    "train_loader = torch.utils.data.DataLoader(dataset=train_dataset, batch_size=64, shuffle=True)\n",
    "test_loader = torch.utils.data.DataLoader(dataset=test_dataset, batch_size=64, shuffle=False)"
   ]
  },
  {
   "cell_type": "code",
   "execution_count": 4,
   "id": "953dabc7-a1b5-44e6-9ec5-2d8fd32eeff0",
   "metadata": {},
   "outputs": [
    {
     "data": {
      "image/png": "[encoded data removed]",
      "text/plain": [
       "<Figure size 800x600 with 6 Axes>"
      ]
     },
     "metadata": {},
     "output_type": "display_data"
    }
   ],
   "source": [
    "import matplotlib.pyplot as plt\n",
    "\n",
    "# İlk 6 örneği görselleştirme\n",
    "fig, axes = plt.subplots(2, 3, figsize=(8, 6))\n",
    "\n",
    "for i in range(6):\n",
    "    image, label = train_dataset[i]  # Veriyi al\n",
    "    ax = axes[i // 3, i % 3]  # 2x3'lük matris içine yerleştir\n",
    "    ax.imshow(image.squeeze(), cmap=\"gray\")  # Görüntüyü çiz (1x28x28 olduğu için squeeze())\n",
    "    ax.set_title(f\"Label: {label}\")\n",
    "    ax.axis(\"off\")\n",
    "\n",
    "plt.show()"
   ]
  },
  {
   "cell_type": "code",
   "execution_count": 5,
   "id": "584c941a-d616-467b-a7c0-8d27118ae443",
   "metadata": {},
   "outputs": [],
   "source": [
    "# 2 Lojistik Regresyon Modeli (Softmax ile)\n",
    "class LogisticRegressionModel(nn.Module):\n",
    "    def __init__(self):\n",
    "        super(LogisticRegressionModel, self).__init__()\n",
    "        self.linear = nn.Linear(28*28, 10)  # 28x28 görüntüyü 10 sınıfa sınıflandır\n",
    "\n",
    "    def forward(self, x):\n",
    "        x = x.view(-1, 28*28)  # Görüntüyü vektöre çevir (784 özellik)\n",
    "        return self.linear(x)  # Softmax eklemiyoruz çünkü CrossEntropyLoss bunu yapıyor\n",
    "# Modeli başlatalım\n",
    "model = LogisticRegressionModel()"
   ]
  },
  {
   "cell_type": "code",
   "execution_count": 17,
   "id": "d3336577-8286-4ab8-a76d-58c2d2266e56",
   "metadata": {},
   "outputs": [],
   "source": [
    "# 3 Kayıp Fonksiyonu ve Optimizasyon\n",
    "criterion = nn.CrossEntropyLoss()  # Softmax içerir\n",
    "optimizer = optim.SGD(model.parameters(), lr=0.05)  # Stokastik Gradient Descent"
   ]
  },
  {
   "cell_type": "code",
   "execution_count": 19,
   "id": "4dabeb12-b6c1-48ec-93a3-d7cbf8a9c953",
   "metadata": {},
   "outputs": [
    {
     "name": "stdout",
     "output_type": "stream",
     "text": [
      "Epoch [1/10], Loss: 0.3020\n",
      "Epoch [2/10], Loss: 0.2210\n",
      "Epoch [3/10], Loss: 0.2038\n",
      "Epoch [4/10], Loss: 0.1685\n",
      "Epoch [5/10], Loss: 0.1409\n",
      "Epoch [6/10], Loss: 0.3562\n",
      "Epoch [7/10], Loss: 0.2938\n",
      "Epoch [8/10], Loss: 0.1893\n",
      "Epoch [9/10], Loss: 0.4749\n",
      "Epoch [10/10], Loss: 0.1588\n"
     ]
    }
   ],
   "source": [
    "# 4 Modeli Eğitelim\n",
    "num_epochs = 10  # 10 epoch yeterli olacaktır\n",
    "\n",
    "for epoch in range(num_epochs):\n",
    "    for images, labels in train_loader:\n",
    "        # Forward\n",
    "        outputs = model(images)\n",
    "        loss = criterion(outputs, labels)\n",
    "\n",
    "        # Backward\n",
    "        optimizer.zero_grad()\n",
    "        loss.backward()\n",
    "        optimizer.step()\n",
    "\n",
    "    print(f\"Epoch [{epoch+1}/{num_epochs}], Loss: {loss.item():.4f}\")\n"
   ]
  },
  {
   "cell_type": "code",
   "execution_count": 21,
   "id": "8561fce3-acec-4e65-8cc6-4732866d16a3",
   "metadata": {},
   "outputs": [
    {
     "name": "stdout",
     "output_type": "stream",
     "text": [
      "Test Doğruluğu: 91.71%\n"
     ]
    }
   ],
   "source": [
    "# 5 Test Verisi ile Modeli Değerlendirelim\n",
    "correct = 0\n",
    "total = 0\n",
    "with torch.no_grad():\n",
    "    for images, labels in test_loader:\n",
    "        outputs = model(images)\n",
    "        _, predicted = torch.max(outputs.data, 1)\n",
    "        total += labels.size(0)\n",
    "        correct += (predicted == labels).sum().item()\n",
    "\n",
    "accuracy = 100 * correct / total\n",
    "print(f\"Test Doğruluğu: {accuracy:.2f}%\")"
   ]
  },
  {
   "cell_type": "code",
   "execution_count": null,
   "id": "490c0235-d83e-47fb-bf83-ce40f13b0b7e",
   "metadata": {},
   "outputs": [],
   "source": []
  }
 ],
 "metadata": {
  "kernelspec": {
   "display_name": "Python (AllProject)",
   "language": "python",
   "name": "allproject"
  },
  "language_info": {
   "codemirror_mode": {
    "name": "ipython",
    "version": 3
   },
   "file_extension": ".py",
   "mimetype": "text/x-python",
   "name": "python",
   "nbconvert_exporter": "python",
   "pygments_lexer": "ipython3",
   "version": "3.12.7"
  }
 },
 "nbformat": 4,
 "nbformat_minor": 5
}

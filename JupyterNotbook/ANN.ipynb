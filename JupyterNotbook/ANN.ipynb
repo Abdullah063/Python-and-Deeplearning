{
 "cells": [
  {
   "cell_type": "code",
   "execution_count": 1,
   "id": "5ae171ce-9cad-400f-ba80-ef391d6cb40b",
   "metadata": {},
   "outputs": [],
   "source": [
    "# Gerekli kütüphaneler\n",
    "import torch\n",
    "import torch.nn as nn\n",
    "import torch.optim as optim\n",
    "import torchvision\n",
    "import torchvision.transforms as transforms\n",
    "from torch.utils.data import DataLoader"
   ]
  },
  {
   "cell_type": "code",
   "execution_count": 2,
   "id": "4f02e7ff-ed89-4224-821e-80094b8d2c5f",
   "metadata": {},
   "outputs": [],
   "source": [
    "# Cihaz Kontrolü (GPU Kullanımı)\n",
    "device = torch.device(\"cuda\" if torch.cuda.is_available() else \"cpu\")"
   ]
  },
  {
   "cell_type": "code",
   "execution_count": 3,
   "id": "53e18fa2-980c-40a4-96ea-57fe918c6784",
   "metadata": {},
   "outputs": [],
   "source": [
    "# Hiperparametreler\n",
    "num_epochs = 10\n",
    "batch_size = 100\n",
    "learning_rate = 0.02"
   ]
  },
  {
   "cell_type": "code",
   "execution_count": 4,
   "id": "962ca347-d7e3-46f2-a6ed-6f4e678f66cc",
   "metadata": {},
   "outputs": [],
   "source": [
    "# MNIST Veri Kümesini Yükleme ve Normalizasyon\n",
    "transform = transforms.Compose([\n",
    "    transforms.ToTensor(),\n",
    "    transforms.Normalize((0.5,), (0.5,))\n",
    "])"
   ]
  },
  {
   "cell_type": "code",
   "execution_count": 5,
   "id": "583e003a-b404-4155-871f-090b3823cc60",
   "metadata": {},
   "outputs": [],
   "source": [
    "train_dataset = torchvision.datasets.MNIST(root='./data', train=True, transform=transform, download=True)\n",
    "test_dataset = torchvision.datasets.MNIST(root='./data', train=False, transform=transform, download=True)\n",
    "\n",
    "train_loader = DataLoader(dataset=train_dataset, batch_size=batch_size, shuffle=True)\n",
    "test_loader = DataLoader(dataset=test_dataset, batch_size=batch_size, shuffle=False)"
   ]
  },
  {
   "cell_type": "code",
   "execution_count": 6,
   "id": "9db80b54-a2cd-44d5-8de6-ee492de3a865",
   "metadata": {},
   "outputs": [],
   "source": [
    "# ANN Modeli Tanımlama\n",
    "class ANNModel(nn.Module):\n",
    "    def __init__(self, input_dim, hidden_dim, output_dim):\n",
    "        super(ANNModel, self).__init__()\n",
    "        \n",
    "        # Katmanlar\n",
    "        self.fc1 = nn.Linear(input_dim, hidden_dim)\n",
    "        self.relu1 = nn.ReLU()\n",
    "        \n",
    "        self.fc2 = nn.Linear(hidden_dim, hidden_dim)\n",
    "        self.tanh2 = nn.Tanh()\n",
    "        \n",
    "        self.fc3 = nn.Linear(hidden_dim, hidden_dim)\n",
    "        self.elu3 = nn.ELU()\n",
    "        \n",
    "        self.fc4 = nn.Linear(hidden_dim, output_dim)  \n",
    "    \n",
    "    def forward(self, x):\n",
    "        out = self.fc1(x)\n",
    "        out = self.relu1(out)\n",
    "        \n",
    "        out = self.fc2(out)\n",
    "        out = self.tanh2(out)\n",
    "        \n",
    "        out = self.fc3(out)\n",
    "        out = self.elu3(out)\n",
    "        \n",
    "        out = self.fc4(out)\n",
    "        return out"
   ]
  },
  {
   "cell_type": "code",
   "execution_count": 7,
   "id": "f11c7441-d71d-42d3-8863-525f4da1475a",
   "metadata": {},
   "outputs": [],
   "source": [
    "# Modeli Tanımla ve Cihaza Gönder\n",
    "input_dim = 28 * 28\n",
    "hidden_dim = 150\n",
    "output_dim = 10\n",
    "model = ANNModel(input_dim, hidden_dim, output_dim).to(device)\n",
    "\n",
    "# Kayıp Fonksiyonu ve Optimizasyon\n",
    "criterion = nn.CrossEntropyLoss()\n",
    "optimizer = optim.SGD(model.parameters(), lr=learning_rate)\n"
   ]
  },
  {
   "cell_type": "code",
   "execution_count": 8,
   "id": "ed1a3842-7d52-4599-bbfd-41b461f82d3c",
   "metadata": {},
   "outputs": [
    {
     "name": "stdout",
     "output_type": "stream",
     "text": [
      "Iteration: 500, Loss: 0.5687, Accuracy: 86.58%\n",
      "Iteration: 1000, Loss: 0.4353, Accuracy: 90.22%\n",
      "Iteration: 1500, Loss: 0.2341, Accuracy: 91.83%\n",
      "Iteration: 2000, Loss: 0.2817, Accuracy: 92.56%\n",
      "Iteration: 2500, Loss: 0.1452, Accuracy: 93.12%\n",
      "Iteration: 3000, Loss: 0.2091, Accuracy: 94.35%\n",
      "Iteration: 3500, Loss: 0.3292, Accuracy: 94.87%\n",
      "Iteration: 4000, Loss: 0.1078, Accuracy: 95.34%\n",
      "Iteration: 4500, Loss: 0.2218, Accuracy: 95.82%\n",
      "Iteration: 5000, Loss: 0.2656, Accuracy: 94.98%\n",
      "Iteration: 5500, Loss: 0.2094, Accuracy: 95.13%\n",
      "Iteration: 6000, Loss: 0.0840, Accuracy: 96.58%\n"
     ]
    }
   ],
   "source": [
    "# Model Eğitimi\n",
    "count = 0\n",
    "loss_list = []\n",
    "iteration_list = []\n",
    "accuracy_list = []\n",
    "\n",
    "for epoch in range(num_epochs):\n",
    "    for i, (images, labels) in enumerate(train_loader):\n",
    "        # Görselleri düzleştir ve GPU/CPU'ya gönder\n",
    "        images = images.view(-1, 28 * 28).to(device)\n",
    "        labels = labels.to(device)\n",
    "\n",
    "        # Gradients sıfırlama\n",
    "        optimizer.zero_grad()\n",
    "\n",
    "        # İleri Yayılım\n",
    "        outputs = model(images)\n",
    "\n",
    "        # Kayıp Hesaplama\n",
    "        loss = criterion(outputs, labels)\n",
    "\n",
    "        # Geri Yayılım\n",
    "        loss.backward()\n",
    "\n",
    "        # Parametre Güncelleme\n",
    "        optimizer.step()\n",
    "\n",
    "        count += 1\n",
    "\n",
    "        # Her 50 iterasyonda bir doğruluk ölç\n",
    "        if count % 50 == 0:\n",
    "            correct = 0\n",
    "            total = 0\n",
    "            with torch.no_grad():\n",
    "                for images, labels in test_loader:\n",
    "                    images = images.view(-1, 28 * 28).to(device)\n",
    "                    labels = labels.to(device)\n",
    "\n",
    "                    outputs = model(images)\n",
    "                    predicted = torch.argmax(outputs, dim=1)\n",
    "\n",
    "                    total += labels.size(0)\n",
    "                    correct += (predicted == labels).sum().item()\n",
    "            \n",
    "            accuracy = 100 * correct / total\n",
    "            loss_list.append(loss.item())\n",
    "            iteration_list.append(count)\n",
    "            accuracy_list.append(accuracy)\n",
    "\n",
    "            if count % 500 == 0:\n",
    "                print(f'Iteration: {count}, Loss: {loss.item():.4f}, Accuracy: {accuracy:.2f}%')"
   ]
  },
  {
   "cell_type": "code",
   "execution_count": null,
   "id": "96e5bc98-f084-4eac-a87b-f6facafdf84b",
   "metadata": {},
   "outputs": [],
   "source": []
  }
 ],
 "metadata": {
  "kernelspec": {
   "display_name": "Python (AllProject)",
   "language": "python",
   "name": "allproject"
  },
  "language_info": {
   "codemirror_mode": {
    "name": "ipython",
    "version": 3
   },
   "file_extension": ".py",
   "mimetype": "text/x-python",
   "name": "python",
   "nbconvert_exporter": "python",
   "pygments_lexer": "ipython3",
   "version": "3.12.7"
  }
 },
 "nbformat": 4,
 "nbformat_minor": 5
}
